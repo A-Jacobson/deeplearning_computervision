{
 "cells": [
  {
   "cell_type": "code",
   "execution_count": 15,
   "metadata": {
    "collapsed": true
   },
   "outputs": [],
   "source": [
    "x = -2\n",
    "y = 5\n",
    "z = -4\n",
    "\n",
    "# forward pass\n",
    "q = x + y # q becomes 3\n",
    "f = q * z # f becomes -12\n",
    "\n",
    "# backward pass\n",
    "# backprop through f = q * z\n",
    "dfdz = q # q = 3, gradient of f with respect to z = q\n",
    "dfdq = z # z = -4\n",
    "\n",
    "# gradients of inside function (q)\n",
    "dqdx = 1.0\n",
    "dqdy = 1.0\n",
    "\n",
    "# backprop multiply local gradient times gradient from above\n",
    "dfdx = dqdx * dfdq\n",
    "dfdy = dqdy * dfdq\n",
    "\n",
    "grad_f = [dfdx, dfdy, dfdz] # tells us the sensitivity of x, y, z on f"
   ]
  },
  {
   "cell_type": "code",
   "execution_count": 16,
   "metadata": {
    "collapsed": false
   },
   "outputs": [
    {
     "data": {
      "text/plain": [
       "[-4.0, -4.0, 3]"
      ]
     },
     "execution_count": 16,
     "metadata": {},
     "output_type": "execute_result"
    }
   ],
   "source": [
    "grad_f"
   ]
  },
  {
   "cell_type": "markdown",
   "metadata": {},
   "source": [
    "### Sigmoid"
   ]
  },
  {
   "cell_type": "code",
   "execution_count": 18,
   "metadata": {
    "collapsed": false
   },
   "outputs": [],
   "source": [
    "import math\n",
    "\n",
    "w = [2, -3, -3] # assume some random weights and data\n",
    "x = [-1, -2]\n",
    "\n",
    "# forward pass\n",
    "dot = w[0]*x[0] + w[1]*x[1] + w[2]\n",
    "f = 1.0 / (1 + math.exp(-dot)) # sigmoid function\n",
    "\n",
    "# backward pass through the neuron (backprop)\n",
    "ddot = (1 - f) * f # gradient on dot var, using sigmoid gradient\n",
    "dx = [w[0] * ddot, w[1] * ddot] # backprop into x\n"
   ]
  },
  {
   "cell_type": "markdown",
   "metadata": {},
   "source": [
    "## Matrix Multiply"
   ]
  },
  {
   "cell_type": "code",
   "execution_count": 20,
   "metadata": {
    "collapsed": false
   },
   "outputs": [],
   "source": [
    "import numpy as np\n",
    "\n",
    "# forward pass\n",
    "W = np.random.randn(5, 10)\n",
    "X = np.random.randn(10, 3)\n",
    "D = W.dot(X)\n",
    "\n",
    "# suppose dD is the gradient from above\n",
    "dD = np.random.randn(*D.shape)\n",
    "dW = dD.dot(X.T) # 5,3 * 3,10 = 5,10 should be same as W\n",
    "dX = W.T.dot(dD) # 10,5 * 5,3 = 10,3 same as X\n",
    "\n"
   ]
  },
  {
   "cell_type": "code",
   "execution_count": 23,
   "metadata": {
    "collapsed": false
   },
   "outputs": [
    {
     "data": {
      "text/plain": [
       "array([[-0.32744864,  3.47297245,  0.33382912],\n",
       "       [ 1.70772529,  2.07226696, -0.85230276],\n",
       "       [-1.12406263,  0.68882332,  0.48119447],\n",
       "       [-1.37204469, -0.45220828,  1.39336506],\n",
       "       [ 0.9365466 ,  5.43408598,  0.87230476],\n",
       "       [ 2.04639336,  1.28694272,  2.02522175],\n",
       "       [ 2.04517996,  0.09410897, -1.6955994 ],\n",
       "       [-0.44999929, -1.79479189, -0.1606877 ],\n",
       "       [-0.28226306, -1.97682557,  1.28213951],\n",
       "       [-1.22814972,  1.59599275,  0.32703051]])"
      ]
     },
     "execution_count": 23,
     "metadata": {},
     "output_type": "execute_result"
    }
   ],
   "source": []
  },
  {
   "cell_type": "code",
   "execution_count": null,
   "metadata": {
    "collapsed": true
   },
   "outputs": [],
   "source": []
  }
 ],
 "metadata": {
  "kernelspec": {
   "display_name": "Python 2",
   "language": "python",
   "name": "python2"
  },
  "language_info": {
   "codemirror_mode": {
    "name": "ipython",
    "version": 2
   },
   "file_extension": ".py",
   "mimetype": "text/x-python",
   "name": "python",
   "nbconvert_exporter": "python",
   "pygments_lexer": "ipython2",
   "version": "2.7.11"
  }
 },
 "nbformat": 4,
 "nbformat_minor": 0
}
